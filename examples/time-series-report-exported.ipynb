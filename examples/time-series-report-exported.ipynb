{
 "cells": [
  {
   "cell_type": "markdown",
   "id": "37a0256b",
   "metadata": {},
   "source": [
    "# Global Temperature Report\n",
    "Monthly global temperature anomaly form 1880 until 2016"
   ]
  },
  {
   "cell_type": "code",
   "execution_count": null,
   "id": "59e7d5aa",
   "metadata": {},
   "outputs": [],
   "source": [
    "import os\n",
    "from typing import Any, Callable, Dict, List, Optional, Tuple, Union\n",
    "\n",
    "import pandas as pd\n",
    "import plotly.io as pio\n",
    "import plotly.offline as py\n",
    "from edvart.report_sections.dataset_overview import show_overview\n",
    "from edvart.report_sections.timeseries_analysis.timeseries_analysis import show_timeseries_analysis\n",
    "from edvart.report_sections.univariate_analysis import show_univariate_analysis\n",
    "\n",
    "\n",
    "pio.renderers.default = 'plotly_mimetype+notebook'\n",
    "py.init_notebook_mode()"
   ]
  },
  {
   "cell_type": "markdown",
   "id": "c94296ea",
   "metadata": {},
   "source": [
    "## Load Data\n",
    "---"
   ]
  },
  {
   "cell_type": "code",
   "execution_count": null,
   "id": "d4070308",
   "metadata": {},
   "outputs": [],
   "source": [
    "df = ..."
   ]
  },
  {
   "cell_type": "markdown",
   "id": "02cc4995",
   "metadata": {},
   "source": [
    "# Table of Contents\n",
    "---"
   ]
  },
  {
   "cell_type": "markdown",
   "id": "7dc6e68c",
   "metadata": {},
   "source": [
    " * [Overview](#1e85fc8b-26b8-42e3-a0a7-0abc4e8826ff)\n",
    "\n",
    " * [Univariate Analysis](#ca68774d-3ba8-4bd4-972f-6b7a53ae6278)\n",
    "\n",
    " * [Timeseries analysis](#22761581-fc7e-4963-93a5-751e928327bb)\n"
   ]
  },
  {
   "cell_type": "markdown",
   "id": "add39a73",
   "metadata": {},
   "source": [
    "# Overview<a id='1e85fc8b-26b8-42e3-a0a7-0abc4e8826ff'>\n",
    "---"
   ]
  },
  {
   "cell_type": "code",
   "execution_count": null,
   "id": "9a0d52b7",
   "metadata": {},
   "outputs": [],
   "source": [
    "show_overview(df=df)"
   ]
  },
  {
   "cell_type": "markdown",
   "id": "d2c8b98c",
   "metadata": {},
   "source": [
    "# Univariate Analysis<a id='ca68774d-3ba8-4bd4-972f-6b7a53ae6278'>\n",
    "---"
   ]
  },
  {
   "cell_type": "code",
   "execution_count": null,
   "id": "80d96b47",
   "metadata": {},
   "outputs": [],
   "source": [
    "show_univariate_analysis(df=df)"
   ]
  },
  {
   "cell_type": "markdown",
   "id": "61366f82",
   "metadata": {},
   "source": [
    "# Timeseries analysis<a id='22761581-fc7e-4963-93a5-751e928327bb'>\n",
    "---"
   ]
  },
  {
   "cell_type": "code",
   "execution_count": null,
   "id": "e9623dfa",
   "metadata": {},
   "outputs": [],
   "source": [
    "show_timeseries_analysis(df=df, sampling_rate=12, stft_window_size=24)"
   ]
  }
 ],
 "metadata": {},
 "nbformat": 4,
 "nbformat_minor": 5
}

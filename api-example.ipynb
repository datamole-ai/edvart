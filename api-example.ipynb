{
 "cells": [
  {
   "cell_type": "code",
   "execution_count": null,
   "id": "13fbf3d3",
   "metadata": {},
   "outputs": [],
   "source": [
    "import edvart\n",
    "\n",
    "import plotly.offline as py\n",
    "py.init_notebook_mode()"
   ]
  },
  {
   "cell_type": "code",
   "execution_count": null,
   "id": "557e0a6a",
   "metadata": {},
   "outputs": [],
   "source": [
    "%%markdown\n",
    "## Basic report"
   ]
  },
  {
   "cell_type": "code",
   "execution_count": null,
   "id": "cfc8ce5f",
   "metadata": {},
   "outputs": [],
   "source": [
    "dataset = edvart.example_datasets.dataset_titanic()"
   ]
  },
  {
   "cell_type": "code",
   "execution_count": null,
   "id": "53cfd75e",
   "metadata": {},
   "outputs": [],
   "source": [
    "dataset.head()"
   ]
  },
  {
   "cell_type": "code",
   "execution_count": null,
   "id": "1e835fbe",
   "metadata": {},
   "outputs": [],
   "source": [
    "report = edvart.DefaultReport(\n",
    "    dataset,\n",
    "    verbosity=0,\n",
    "    columns_overview=['Name', 'Survived'],\n",
    "    columns_univariate_analysis=['Name', 'Age', 'Pclass'],\n",
    "    groupby='Survived',\n",
    ")"
   ]
  },
  {
   "cell_type": "code",
   "execution_count": null,
   "id": "ebce229b",
   "metadata": {},
   "outputs": [],
   "source": [
    "report.export_notebook('test-export.ipynb')"
   ]
  },
  {
   "cell_type": "code",
   "execution_count": null,
   "id": "20b517f0",
   "metadata": {},
   "outputs": [],
   "source": [
    "report.export_html(\n",
    "    html_filepath='test-export.html',\n",
    "    dataset_name='Titanic',\n",
    "    dataset_description='Dataset that contains data for 891 of the real Titanic passengers.'\n",
    ")"
   ]
  },
  {
   "cell_type": "code",
   "execution_count": null,
   "id": "249ccd4a",
   "metadata": {},
   "outputs": [],
   "source": [
    "report.show()"
   ]
  },
  {
   "cell_type": "code",
   "execution_count": null,
   "id": "ad5274d1",
   "metadata": {},
   "outputs": [],
   "source": [
    "%%markdown\n",
    "## Timeseries report"
   ]
  },
  {
   "cell_type": "code",
   "execution_count": null,
   "id": "1c8d28ed",
   "metadata": {},
   "outputs": [],
   "source": [
    "dataset_ts = edvart.example_datasets.dataset_global_temp()"
   ]
  },
  {
   "cell_type": "code",
   "execution_count": null,
   "id": "7c499d2a",
   "metadata": {},
   "outputs": [],
   "source": [
    "report_ts = edvart.DefaultTimeseriesReport(\n",
    "    dataset_ts,\n",
    "    # Monthly data -> analyze yearly seasonality\n",
    "    sampling_rate=12,\n",
    "    stft_window_size=24,\n",
    ")"
   ]
  },
  {
   "cell_type": "code",
   "execution_count": null,
   "id": "74fbebdd",
   "metadata": {},
   "outputs": [],
   "source": [
    "report_ts.export_notebook(\"test-export-ts.ipynb\")"
   ]
  },
  {
   "cell_type": "code",
   "execution_count": null,
   "id": "b0fdecdf",
   "metadata": {},
   "outputs": [],
   "source": [
    "report_ts.export_html(\"test-export-ts.html\")"
   ]
  },
  {
   "cell_type": "code",
   "execution_count": null,
   "id": "4a2d1a64",
   "metadata": {},
   "outputs": [],
   "source": [
    "report_ts.show()"
   ]
  }
 ],
 "metadata": {
  "jupytext": {
   "cell_metadata_filter": "tags,-all",
   "notebook_metadata_filter": "kernelspec,jupytext"
  },
  "kernelspec": {
   "display_name": "edvart",
   "language": "python",
   "name": "edvart"
  }
 },
 "nbformat": 4,
 "nbformat_minor": 5
}
